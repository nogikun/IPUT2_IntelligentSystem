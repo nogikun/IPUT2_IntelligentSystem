{
  "cells": [
    {
      "cell_type": "markdown",
      "metadata": {
        "id": "dOAFa9Tyay6D"
      },
      "source": [
        "#### チャットボット"
      ]
    },
    {
      "cell_type": "code",
      "execution_count": null,
      "metadata": {
        "id": "Qr0P4A7Ha1H1"
      },
      "outputs": [],
      "source": [
        "import csv\n",
        "# インポート\n",
        "import numpy as np\n",
        "import matplotlib.pyplot as plt\n",
        "import random\n",
        " # プログレスバーをロード\n",
        "# from tqdm import tqdm\n",
        "\n",
        "# 日本語を使用できるようにする\n",
        "# import japanize_matplotlib\n",
        "\n",
        "# 形態素解析\n",
        "# import MeCab\n",
        "# 形態素解析用辞書\n",
        "# import unidic\n",
        "\n",
        "def answer2(input_line, article_arr):\n",
        "    for i in range(len(article_arr)):\n",
        "        for word in article_arr[i]:\n",
        "            if word == '':\n",
        "                break\n",
        "            if word in input_line:\n",
        "                if 2 <= len(word):\n",
        "                    return i\n",
        "    return None\n",
        "\n",
        "def get_key_word(inputline, word_list):\n",
        "    for i in range(len(word_list)):\n",
        "        if len(word_list[i]) >= 2:\n",
        "            if word_list[i] in inputline:\n",
        "                return word_list[i]\n",
        "\n",
        "def get_ngram(sentence, Ng=1):\n",
        "    Ns = len(sentence)\n",
        "    idxs = []\n",
        "    for i in range(Ns):\n",
        "        if i+Ng > Ns:\n",
        "            break\n",
        "        idxs.append( [i,(i+Ng) ] )\n",
        "    res = []\n",
        "    for idx in idxs:\n",
        "        i = idx[0]\n",
        "        j = idx[1]\n",
        "        tmp=\"\"\n",
        "        for k in sentence[i:j]:\n",
        "            tmp+=k\n",
        "        res.append( tmp)\n",
        "    return res\n",
        "\n",
        "def unique(w):\n",
        "    return list(set(w) )\n",
        "\n",
        "\n",
        "def sample(i, trans, input_string_dict, input_string_list):\n",
        "    key = np.random.choice(a=input_string_dict, size=1, p=trans[i])[0]\n",
        "    return input_string_dict.index(key)\n",
        "\n",
        "def moji_count(input_string_dict, input_string_list):\n",
        "    mojis=[]\n",
        "    counts=[]\n",
        "    idx=0\n",
        "    for moji in input_string_dict:\n",
        "        n=0\n",
        "        for tmp in input_string_list:\n",
        "            if moji==tmp:\n",
        "                n+=1\n",
        "        idx+=1\n",
        "        mojis.append(moji)\n",
        "        counts.append(n)\n",
        "    return mojis, counts\n",
        "\n",
        "def Markov_chain(input_string_dict, input_string_list, Ng):\n",
        "    # 連続出現頻度をカウントする (条件付き確率を統計的に推測)\n",
        "    C1 = np.zeros((len(input_string_dict),len(input_string_dict)))\n",
        "    for i in range(len(input_string_list)-Ng):\n",
        "        words = f\"{input_string_list[i]}{input_string_list[i+Ng]}\"\n",
        "        #print(words)\n",
        "        for j in range(len(input_string_dict)):\n",
        "            m1=input_string_dict[j]\n",
        "            if words[:Ng] == m1:\n",
        "                for k in range(len(input_string_dict)):\n",
        "                    m2=input_string_dict[k]\n",
        "                    #print(f\"{m1}{m2}\")\n",
        "                    if words==f\"{m1}{m2}\":\n",
        "                        C1[j][k]+=1\n",
        "    return C1\n",
        "\n",
        "def Markov_probability(C1, input_string_dict):\n",
        "    trans1 = np.array(C1)\n",
        "    for i in range(len(input_string_dict)):\n",
        "        # EOS を除く処理\n",
        "        if np.sum(trans1[i])>0: # EOS(終端文字)以外は必ず満たされる。\n",
        "            trans1[i] = trans1[i]/np.sum(trans1[i]) # 統計確率に変換。\n",
        "        else:\n",
        "            pass\n",
        "    return trans1\n",
        "\n",
        "def say(input_string_dict, input_string_list, counts, trans1, key):\n",
        "    # key = np.random.choice(a=input_string_dict, size=1, p=counts/np.sum(counts))[0]\n",
        "    i = input_string_dict.index(key)\n",
        "    text = ''\n",
        "    Nmax = 100\n",
        "    # print('さくら：', end='')\n",
        "    for k in range(Nmax):\n",
        "        # if i==(len(input_string_dict)-1):\n",
        "        #     print(\"[EOS]\")\n",
        "        #     break\n",
        "        if input_string_dict[i][0] == '。' or input_string_dict[i][0] == '.':\n",
        "            text = text.replace('\\n', '')\n",
        "            text += 'らしいです。\\n'\n",
        "            text += '\\n▼ 詳しくはこちら\\n'\n",
        "            return text\n",
        "        elif input_string_dict[i][1] == '。' or input_string_dict[i][1] == '.':\n",
        "            text = text.replace('\\n', '')\n",
        "            text = text + input_string_dict[i][0]+'らしいです。\\n'\n",
        "            text += '\\n▼ 詳しくはこちら\\n'\n",
        "            return text\n",
        "        else:\n",
        "            text += input_string_dict[i]\n",
        "        i=sample(i,trans1, input_string_dict, input_string_list)\n",
        "    return text\n",
        "\n",
        "def speak(input_string, start_word):\n",
        "    Ng = 2 # 1,2,3 あたりでないと遅い\n",
        "    EOS= \"%%%%EOS%%%%\" # 終端記号を定義\n",
        "    start_word = start_word[:Ng]\n",
        "    # チャットボット用の文章\n",
        "    # file = open(path, \"r\")\n",
        "    # input_string = file.read()\n",
        "\n",
        "    input_string_list = get_ngram(input_string, Ng=Ng)\n",
        "    input_string_dict = unique(input_string_list)\n",
        "    # input_string_list.append(EOS) # 終端記号を追加\n",
        "    # input_string_dict.append(EOS) # 終端記号を追加\n",
        "\n",
        "    mojis, counts = moji_count(input_string_dict, input_string_list)\n",
        "\n",
        "    C1 = Markov_chain(input_string_dict, input_string_list, Ng)\n",
        "\n",
        "    trans1 = Markov_probability(C1, input_string_dict)\n",
        "\n",
        "    text = say(input_string_dict, input_string_list, counts, trans1, start_word)\n",
        "\n",
        "    return text"
      ]
    },
    {
      "cell_type": "code",
      "execution_count": null,
      "metadata": {
        "id": "a59gn3pab8j1"
      },
      "outputs": [],
      "source": [
        "# CSVを読み込む\n",
        "article_list = []\n",
        "# CSVファイルを1行ずつ参照する,Data_エンタメ_国内_科学.csv,Book1.cs\n",
        "with open('test.csv', newline='') as csvfile:\n",
        "    csv_reader = csv.reader(csvfile)\n",
        "\n",
        "    # 次の行に進んで処理する例\n",
        "    for row in csv_reader:\n",
        "        article_list.append(row)\n",
        "article_list[0][0] = article_list[0][0].replace('\\ufeff', '')\n",
        "article_arr = np.array(article_list)"
      ]
    },
    {
      "cell_type": "code",
      "execution_count": null,
      "metadata": {
        "id": "5Yk02x3EbXul"
      },
      "outputs": [],
      "source": [
        "def ChatBot(inputline):\n",
        "      # 回答へ\n",
        "      line_num = answer2(inputline, article_arr[:, 2:])\n",
        "      if line_num != None:\n",
        "\n",
        "          # path = prule[line_num][0]\n",
        "          start_word = get_key_word(inputline, article_arr[line_num][2:])\n",
        "          if start_word != None:\n",
        "              text = speak(article_arr[line_num][1], start_word)\n",
        "              text += article_arr[line_num][0]\n",
        "          else:\n",
        "              text = '記事がありません。'\n",
        "      else:\n",
        "          text = '記事がありません。'\n",
        "      # この下に関\n",
        "      #print(inputline, '+', text)\n",
        "      return text"
      ]
    },
    {
      "cell_type": "code",
      "execution_count": null,
      "metadata": {
        "colab": {
          "base_uri": "https://localhost:8080/"
        },
        "id": "s0EVIwxfelHp",
        "outputId": "8d13ef92-ece5-4c6d-dd8d-f7a9feef498e"
      },
      "outputs": [
        {
          "name": "stdout",
          "output_type": "stream",
          "text": [
            "さくら: さて、どうしました？\n"
          ]
        }
      ],
      "source": [
        "# ChatBot初期実行\n",
        "\n",
        "article_list = []\n",
        "# CSVファイルを1行ずつ参照する,Data_エンタメ_国内_科学.csv,Book1.cs\n",
        "with open('test.csv', newline='') as csvfile:\n",
        "    csv_reader = csv.reader(csvfile)\n",
        "\n",
        "    # 次の行に進んで処理する例\n",
        "    for row in csv_reader:\n",
        "        article_list.append(row)\n",
        "article_list[0][0] = article_list[0][0].replace('\\ufeff', '')\n",
        "article_arr = np.array(article_list)\n",
        "\n",
        "# エキスパートシステム実行部\n",
        "botname = 'さくら'\n",
        "print(f\"{botname}: さて、どうしました？\")"
      ]
    },
    {
      "cell_type": "markdown",
      "metadata": {
        "id": "V8q9XdSwaYyc"
      },
      "source": [
        "### LINEBOT サーバー"
      ]
    },
    {
      "cell_type": "code",
      "execution_count": null,
      "metadata": {
        "id": "zlNnXxYWZKjH"
      },
      "outputs": [],
      "source": [
        "import getpass\n",
        "# LINEのチャネルシークレット\n",
        "LINE_CHANNEL_SECRET = getpass.getpass(prompt='LINEのチャネルシークレットキー：')\n",
        "# LINEのチャネルアクセストークン\n",
        "LINE_ACCESS_TOKEN = getpass.getpass(prompt='LINEのチャネルアクセストークン：')\n"
      ]
    },
    {
      "cell_type": "code",
      "execution_count": null,
      "metadata": {
        "id": "bs1v5fictDH1"
      },
      "outputs": [],
      "source": [
        "# LINEのチャネルシークレット\n",
        "LINE_CHANNEL_SECRET = ''#シークレットキー\n",
        "# LINEのチャネルアクセストークン\n",
        "LINE_ACCESS_TOKEN = ''#アクセストークン\n",
        "# ngrokのAuthtoken\n",
        "NGROK_AUTHTOKEN = ''#ngrokのAuthキー（ローカルで確認する場合は不要）"
      ]
    },
    {
      "cell_type": "code",
      "execution_count": null,
      "metadata": {
        "id": "WJPcJXZTrSy1"
      },
      "outputs": [],
      "source": [
        "%%capture\n",
        "!pip install flask\n",
        "!pip install line-bot-sdk\n",
        "!pip install pyngrok\n",
        "\n",
        "#ngrok認証\n",
        "!ngrok authtoken $NGROK_AUTHTOKEN"
      ]
    },
    {
      "cell_type": "code",
      "execution_count": null,
      "metadata": {
        "colab": {
          "base_uri": "https://localhost:8080/"
        },
        "id": "wekosQyidNJI",
        "outputId": "8225d702-2e49-40de-fa7e-91e5cf3758f4"
      },
      "outputs": [],
      "source": [
        "#ngrok認証\n",
        "!ngrok authtoken $NGROK_AUTHTOKEN"
      ]
    },
    {
      "cell_type": "code",
      "execution_count": null,
      "metadata": {
        "colab": {
          "base_uri": "https://localhost:8080/"
        },
        "id": "IGNa0fFIu4hX",
        "outputId": "72572e3f-9293-407d-dbd6-c1c94804b81b"
      },
      "outputs": [],
      "source": [
        "#Webフックを立てる\n",
        "import os\n",
        "\n",
        "from pyngrok import ngrok\n",
        "from pyngrok.conf import PyngrokConfig\n",
        "\n",
        "os.system('kill -9 $(pgrep ngrok)')\n",
        "webhook_url = ngrok.connect(addr='127.0.0.1:5000', pyngrok_config=PyngrokConfig(start_new_session=True))\n",
        "print (webhook_url)\n",
        "\n",
        "print('https://developers.line.biz/console/channel/1660792247/messaging-apiでWebhookを設定してください')"
      ]
    },
    {
      "cell_type": "markdown",
      "metadata": {
        "id": "bl69dq1WwKrX"
      },
      "source": [
        "#### データ送信プログラム"
      ]
    },
    {
      "cell_type": "code",
      "execution_count": null,
      "metadata": {
        "colab": {
          "background_save": true,
          "base_uri": "https://localhost:8080/"
        },
        "id": "8q6Z1aB9wJXw",
        "outputId": "4b68e6ad-1f54-4af4-bad1-6897d8331744"
      },
      "outputs": [],
      "source": [
        "from linebot.models.messages import Message\n",
        "from flask import Flask, request, abort #Webアプリケーションフレームワーク\n",
        "\n",
        "from linebot import (\n",
        "    LineBotApi, WebhookHandler\n",
        ")\n",
        "from linebot.exceptions import (\n",
        "    InvalidSignatureError\n",
        ")\n",
        "from linebot.models import (\n",
        "    MessageEvent, TextMessage, TextSendMessage, ImageSendMessage,\n",
        ")\n",
        "\n",
        "app = Flask(__name__)\n",
        "\n",
        "#API\n",
        "line_bot_api = LineBotApi(LINE_ACCESS_TOKEN)\n",
        "#ハンドラー\n",
        "handler = WebhookHandler(LINE_CHANNEL_SECRET) #LINEチャンネルシークレットをWebhookが参照するように\n",
        "\n",
        "@app.route(\"/test\") #Flask関連,[URL]/testを踏むと以下の関数：test()が実行される。\n",
        "def test():\n",
        "  return \"TEST OK\"\n",
        "\n",
        "#HTTPリクエスト？\n",
        "@app.route(\"/\", methods=['POST'])\n",
        "def callback():\n",
        "    # get X-Line-Signature header value\n",
        "    signature = request.headers['X-Line-Signature']\n",
        "\n",
        "    # get request body as text\n",
        "    body = request.get_data(as_text=True)\n",
        "    app.logger.info(\"Request body: \" + body)\n",
        "\n",
        "    # handle webhook body\n",
        "    try:\n",
        "        # 署名の検証を行い、成功した場合にhandleされたメソッドを呼び出す\n",
        "        handler.handle(body, signature)\n",
        "    except InvalidSignatureError:\n",
        "        #アクセストークンを確認する用に通知\n",
        "        print(\"Invalid signature. Please check your channel access token/channel secret.\")\n",
        "        abort(400)\n",
        "\n",
        "    return 'OK'\n",
        "\n",
        "\n",
        "@handler.add(MessageEvent, message=TextMessage)#リクエストのイベントを指定\n",
        "def handle_message(event):\n",
        "\n",
        "    inputline = event.message.text # Lineユーザーの入力\n",
        "\n",
        "    # 回答\n",
        "    text = ChatBot(inputline)\n",
        "\n",
        "    # 出力\n",
        "    line_bot_api.reply_message(\n",
        "        event.reply_token,\n",
        "        TextSendMessage(text=f\"{text}\"),#event.message.text（送信されたメッセージ）を送信\n",
        "    )\n",
        "    text = '' # リセット\n",
        "\n",
        "if __name__ == '__main__':\n",
        "    app.run() #実行"
      ]
    },
    {
      "cell_type": "code",
      "execution_count": null,
      "metadata": {
        "id": "Xc6QoBZS-tK5"
      },
      "outputs": [],
      "source": []
    }
  ],
  "metadata": {
    "colab": {
      "provenance": []
    },
    "kernelspec": {
      "display_name": "Python 3",
      "name": "python3"
    },
    "language_info": {
      "name": "python"
    }
  },
  "nbformat": 4,
  "nbformat_minor": 0
}
